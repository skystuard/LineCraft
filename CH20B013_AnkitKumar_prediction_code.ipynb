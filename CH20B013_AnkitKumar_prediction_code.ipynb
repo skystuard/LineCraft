{
 "cells": [
  {
   "cell_type": "markdown",
   "id": "88d20b96",
   "metadata": {},
   "source": [
    "##  Importing Tools For Machine Learning"
   ]
  },
  {
   "cell_type": "code",
   "execution_count": 2,
   "id": "eb510d7e",
   "metadata": {},
   "outputs": [],
   "source": [
    "import pandas as pd\n",
    "import numpy as np\n",
    "import seaborn as sns\n",
    "from sklearn.model_selection import train_test_split\n",
    "from sklearn.linear_model import LogisticRegression\n",
    "from sklearn.metrics import accuracy_score"
   ]
  },
  {
   "cell_type": "markdown",
   "id": "6cc5e803",
   "metadata": {},
   "source": [
    "## Reading and Analysing data given"
   ]
  },
  {
   "cell_type": "code",
   "execution_count": 3,
   "id": "8a0cd5c1",
   "metadata": {},
   "outputs": [],
   "source": [
    "data = pd.read_csv('iitm_intern_train_data.csv')"
   ]
  },
  {
   "cell_type": "code",
   "execution_count": 4,
   "id": "61e1e7f1",
   "metadata": {},
   "outputs": [
    {
     "data": {
      "text/html": [
       "<div>\n",
       "<style scoped>\n",
       "    .dataframe tbody tr th:only-of-type {\n",
       "        vertical-align: middle;\n",
       "    }\n",
       "\n",
       "    .dataframe tbody tr th {\n",
       "        vertical-align: top;\n",
       "    }\n",
       "\n",
       "    .dataframe thead th {\n",
       "        text-align: right;\n",
       "    }\n",
       "</style>\n",
       "<table border=\"1\" class=\"dataframe\">\n",
       "  <thead>\n",
       "    <tr style=\"text-align: right;\">\n",
       "      <th></th>\n",
       "      <th>0</th>\n",
       "      <th>1</th>\n",
       "      <th>2</th>\n",
       "      <th>3</th>\n",
       "      <th>4</th>\n",
       "      <th>5</th>\n",
       "      <th>6</th>\n",
       "      <th>7</th>\n",
       "      <th>8</th>\n",
       "      <th>9</th>\n",
       "      <th>...</th>\n",
       "      <th>39</th>\n",
       "      <th>40</th>\n",
       "      <th>41</th>\n",
       "      <th>42</th>\n",
       "      <th>43</th>\n",
       "      <th>44</th>\n",
       "      <th>45</th>\n",
       "      <th>46</th>\n",
       "      <th>47</th>\n",
       "      <th>class</th>\n",
       "    </tr>\n",
       "  </thead>\n",
       "  <tbody>\n",
       "    <tr>\n",
       "      <th>0</th>\n",
       "      <td>-0.000018</td>\n",
       "      <td>0.000043</td>\n",
       "      <td>0.000033</td>\n",
       "      <td>0.000008</td>\n",
       "      <td>0.000018</td>\n",
       "      <td>0.000168</td>\n",
       "      <td>-0.037158</td>\n",
       "      <td>-0.037202</td>\n",
       "      <td>-0.037235</td>\n",
       "      <td>-0.010982</td>\n",
       "      <td>...</td>\n",
       "      <td>-0.67649</td>\n",
       "      <td>0.96055</td>\n",
       "      <td>8.6993</td>\n",
       "      <td>-1.5021</td>\n",
       "      <td>-1.5021</td>\n",
       "      <td>-1.5017</td>\n",
       "      <td>-1.4932</td>\n",
       "      <td>-1.4933</td>\n",
       "      <td>-1.4934</td>\n",
       "      <td>10</td>\n",
       "    </tr>\n",
       "    <tr>\n",
       "      <th>1</th>\n",
       "      <td>-0.000001</td>\n",
       "      <td>-0.000017</td>\n",
       "      <td>-0.000091</td>\n",
       "      <td>-0.000002</td>\n",
       "      <td>-0.000005</td>\n",
       "      <td>0.000030</td>\n",
       "      <td>0.003444</td>\n",
       "      <td>0.003460</td>\n",
       "      <td>0.003551</td>\n",
       "      <td>-0.044235</td>\n",
       "      <td>...</td>\n",
       "      <td>-0.76999</td>\n",
       "      <td>6.98720</td>\n",
       "      <td>3.7207</td>\n",
       "      <td>-1.5000</td>\n",
       "      <td>-1.5000</td>\n",
       "      <td>-1.5001</td>\n",
       "      <td>-1.4996</td>\n",
       "      <td>-1.4996</td>\n",
       "      <td>-1.4996</td>\n",
       "      <td>9</td>\n",
       "    </tr>\n",
       "    <tr>\n",
       "      <th>2</th>\n",
       "      <td>-0.000008</td>\n",
       "      <td>0.000022</td>\n",
       "      <td>0.000273</td>\n",
       "      <td>-0.000013</td>\n",
       "      <td>0.000045</td>\n",
       "      <td>0.000235</td>\n",
       "      <td>-0.031176</td>\n",
       "      <td>-0.031198</td>\n",
       "      <td>-0.031471</td>\n",
       "      <td>-0.005473</td>\n",
       "      <td>...</td>\n",
       "      <td>-0.50284</td>\n",
       "      <td>2.72700</td>\n",
       "      <td>3.6334</td>\n",
       "      <td>-1.5067</td>\n",
       "      <td>-1.5067</td>\n",
       "      <td>-1.5068</td>\n",
       "      <td>-1.4977</td>\n",
       "      <td>-1.4978</td>\n",
       "      <td>-1.4978</td>\n",
       "      <td>10</td>\n",
       "    </tr>\n",
       "    <tr>\n",
       "      <th>3</th>\n",
       "      <td>-0.000003</td>\n",
       "      <td>-0.000024</td>\n",
       "      <td>-0.000068</td>\n",
       "      <td>-0.000004</td>\n",
       "      <td>-0.000014</td>\n",
       "      <td>0.000208</td>\n",
       "      <td>0.011901</td>\n",
       "      <td>0.011925</td>\n",
       "      <td>0.011993</td>\n",
       "      <td>-0.010714</td>\n",
       "      <td>...</td>\n",
       "      <td>-0.82455</td>\n",
       "      <td>5.36100</td>\n",
       "      <td>11.3180</td>\n",
       "      <td>-1.4998</td>\n",
       "      <td>-1.4998</td>\n",
       "      <td>-1.4998</td>\n",
       "      <td>-1.5001</td>\n",
       "      <td>-1.5002</td>\n",
       "      <td>-1.5000</td>\n",
       "      <td>9</td>\n",
       "    </tr>\n",
       "    <tr>\n",
       "      <th>4</th>\n",
       "      <td>0.000001</td>\n",
       "      <td>-0.000046</td>\n",
       "      <td>-0.000155</td>\n",
       "      <td>-0.000005</td>\n",
       "      <td>-0.000003</td>\n",
       "      <td>-0.000062</td>\n",
       "      <td>0.002543</td>\n",
       "      <td>0.002589</td>\n",
       "      <td>0.002744</td>\n",
       "      <td>-0.037649</td>\n",
       "      <td>...</td>\n",
       "      <td>-0.70297</td>\n",
       "      <td>1.80770</td>\n",
       "      <td>2.5276</td>\n",
       "      <td>-1.5059</td>\n",
       "      <td>-1.5058</td>\n",
       "      <td>-1.5055</td>\n",
       "      <td>-1.4992</td>\n",
       "      <td>-1.4992</td>\n",
       "      <td>-1.4992</td>\n",
       "      <td>9</td>\n",
       "    </tr>\n",
       "  </tbody>\n",
       "</table>\n",
       "<p>5 rows × 49 columns</p>\n",
       "</div>"
      ],
      "text/plain": [
       "          0         1         2         3         4         5         6  \\\n",
       "0 -0.000018  0.000043  0.000033  0.000008  0.000018  0.000168 -0.037158   \n",
       "1 -0.000001 -0.000017 -0.000091 -0.000002 -0.000005  0.000030  0.003444   \n",
       "2 -0.000008  0.000022  0.000273 -0.000013  0.000045  0.000235 -0.031176   \n",
       "3 -0.000003 -0.000024 -0.000068 -0.000004 -0.000014  0.000208  0.011901   \n",
       "4  0.000001 -0.000046 -0.000155 -0.000005 -0.000003 -0.000062  0.002543   \n",
       "\n",
       "          7         8         9  ...       39       40       41      42  \\\n",
       "0 -0.037202 -0.037235 -0.010982  ... -0.67649  0.96055   8.6993 -1.5021   \n",
       "1  0.003460  0.003551 -0.044235  ... -0.76999  6.98720   3.7207 -1.5000   \n",
       "2 -0.031198 -0.031471 -0.005473  ... -0.50284  2.72700   3.6334 -1.5067   \n",
       "3  0.011925  0.011993 -0.010714  ... -0.82455  5.36100  11.3180 -1.4998   \n",
       "4  0.002589  0.002744 -0.037649  ... -0.70297  1.80770   2.5276 -1.5059   \n",
       "\n",
       "       43      44      45      46      47  class  \n",
       "0 -1.5021 -1.5017 -1.4932 -1.4933 -1.4934     10  \n",
       "1 -1.5000 -1.5001 -1.4996 -1.4996 -1.4996      9  \n",
       "2 -1.5067 -1.5068 -1.4977 -1.4978 -1.4978     10  \n",
       "3 -1.4998 -1.4998 -1.5001 -1.5002 -1.5000      9  \n",
       "4 -1.5058 -1.5055 -1.4992 -1.4992 -1.4992      9  \n",
       "\n",
       "[5 rows x 49 columns]"
      ]
     },
     "execution_count": 4,
     "metadata": {},
     "output_type": "execute_result"
    }
   ],
   "source": [
    "data.head()"
   ]
  },
  {
   "cell_type": "code",
   "execution_count": 5,
   "id": "5e47f75f",
   "metadata": {},
   "outputs": [
    {
     "data": {
      "text/plain": [
       "(46807, 49)"
      ]
     },
     "execution_count": 5,
     "metadata": {},
     "output_type": "execute_result"
    }
   ],
   "source": [
    "data.shape"
   ]
  },
  {
   "cell_type": "code",
   "execution_count": 6,
   "id": "c4c951f2",
   "metadata": {},
   "outputs": [
    {
     "data": {
      "text/plain": [
       "<bound method NDFrame.describe of                   0             1         2             3         4         5  \\\n",
       "0     -1.793200e-05  4.344000e-05  0.000033  7.981800e-06  0.000018  0.000168   \n",
       "1     -1.313700e-06 -1.688500e-05 -0.000091 -1.996100e-06 -0.000005  0.000030   \n",
       "2     -8.278900e-06  2.167200e-05  0.000273 -1.345900e-05  0.000045  0.000235   \n",
       "3     -2.935600e-06 -2.423100e-05 -0.000068 -3.866000e-06 -0.000014  0.000208   \n",
       "4      1.103600e-06 -4.558900e-05 -0.000155 -4.815800e-06 -0.000003 -0.000062   \n",
       "...             ...           ...       ...           ...       ...       ...   \n",
       "46802 -3.652300e-06  2.496900e-05  0.000024 -4.599600e-07  0.000067 -0.000282   \n",
       "46803 -1.795000e-06  1.683800e-07 -0.000004 -1.393700e-06  0.000005  0.000052   \n",
       "46804 -4.947600e-06 -8.041000e-06  0.000253  1.988500e-05  0.000145 -0.000119   \n",
       "46805 -4.897500e-06 -1.940900e-05 -0.000064 -1.463800e-06 -0.000007 -0.000126   \n",
       "46806 -2.709400e-07  7.570700e-06 -0.000060 -1.164700e-07  0.000013 -0.000033   \n",
       "\n",
       "              6         7         8         9  ...       39        40  \\\n",
       "0     -0.037158 -0.037202 -0.037235 -0.010982  ... -0.67649   0.96055   \n",
       "1      0.003444  0.003460  0.003551 -0.044235  ... -0.76999   6.98720   \n",
       "2     -0.031176 -0.031198 -0.031471 -0.005473  ... -0.50284   2.72700   \n",
       "3      0.011901  0.011925  0.011993 -0.010714  ... -0.82455   5.36100   \n",
       "4      0.002543  0.002589  0.002744 -0.037649  ... -0.70297   1.80770   \n",
       "...         ...       ...       ...       ...  ...      ...       ...   \n",
       "46802 -0.032996 -0.033021 -0.033045 -0.022222  ... -0.77046  30.83100   \n",
       "46803  0.068233  0.068233  0.068237  0.110810  ... -0.50607  10.07400   \n",
       "46804  0.016470  0.016478  0.016226 -0.025073  ... -0.50770   7.89200   \n",
       "46805  0.011173  0.011192  0.011256  0.015279  ... -0.72531   1.52170   \n",
       "46806  0.043045  0.043037  0.043097  0.107860  ... -0.65383   1.34790   \n",
       "\n",
       "            41      42      43      44      45      46      47  class  \n",
       "0       8.6993 -1.5021 -1.5021 -1.5017 -1.4932 -1.4933 -1.4934     10  \n",
       "1       3.7207 -1.5000 -1.5000 -1.5001 -1.4996 -1.4996 -1.4996      9  \n",
       "2       3.6334 -1.5067 -1.5067 -1.5068 -1.4977 -1.4978 -1.4978     10  \n",
       "3      11.3180 -1.4998 -1.4998 -1.4998 -1.5001 -1.5002 -1.5000      9  \n",
       "4       2.5276 -1.5059 -1.5058 -1.5055 -1.4992 -1.4992 -1.4992      9  \n",
       "...        ...     ...     ...     ...     ...     ...     ...    ...  \n",
       "46802  17.3410 -1.4999 -1.4999 -1.4999 -1.4994 -1.4995 -1.4994     10  \n",
       "46803  15.2970 -1.4986 -1.4986 -1.4986 -1.4970 -1.4970 -1.4970      7  \n",
       "46804   6.2932 -1.5046 -1.5047 -1.5036 -1.4911 -1.4911 -1.4913      1  \n",
       "46805   8.7719 -1.5007 -1.5007 -1.5007 -1.4966 -1.4966 -1.4966      3  \n",
       "46806  10.6840 -1.4979 -1.4979 -1.4978 -1.5002 -1.5002 -1.5002      7  \n",
       "\n",
       "[46807 rows x 49 columns]>"
      ]
     },
     "execution_count": 6,
     "metadata": {},
     "output_type": "execute_result"
    }
   ],
   "source": [
    "data.describe"
   ]
  },
  {
   "cell_type": "code",
   "execution_count": 69,
   "id": "f83e790f",
   "metadata": {
    "scrolled": true
   },
   "outputs": [
    {
     "data": {
      "text/plain": [
       "0        0\n",
       "1        0\n",
       "2        0\n",
       "3        0\n",
       "4        0\n",
       "5        0\n",
       "6        0\n",
       "7        0\n",
       "8        0\n",
       "9        0\n",
       "10       0\n",
       "11       0\n",
       "12       0\n",
       "13       0\n",
       "14       0\n",
       "15       0\n",
       "16       0\n",
       "17       0\n",
       "18       0\n",
       "19       0\n",
       "20       0\n",
       "21       0\n",
       "22       0\n",
       "23       0\n",
       "24       0\n",
       "25       0\n",
       "26       0\n",
       "27       0\n",
       "28       0\n",
       "29       0\n",
       "30       0\n",
       "31       0\n",
       "32       0\n",
       "33       0\n",
       "34       0\n",
       "35       0\n",
       "36       0\n",
       "37       0\n",
       "38       0\n",
       "39       0\n",
       "40       0\n",
       "41       0\n",
       "42       0\n",
       "43       0\n",
       "44       0\n",
       "45       0\n",
       "46       0\n",
       "47       0\n",
       "class    0\n",
       "dtype: int64"
      ]
     },
     "execution_count": 69,
     "metadata": {},
     "output_type": "execute_result"
    }
   ],
   "source": [
    "data.isnull().sum()"
   ]
  },
  {
   "cell_type": "markdown",
   "id": "f549f05e",
   "metadata": {},
   "source": [
    "#####  no need of imputing data, as no values are missing"
   ]
  },
  {
   "cell_type": "markdown",
   "id": "50d3b673",
   "metadata": {},
   "source": [
    "## Trying to find correlation between label "
   ]
  },
  {
   "cell_type": "code",
   "execution_count": 8,
   "id": "cd9ba4d2",
   "metadata": {
    "scrolled": false
   },
   "outputs": [
    {
     "data": {
      "image/png": "[encoded data removed]",
      "text/plain": [
       "<Figure size 432x288 with 2 Axes>"
      ]
     },
     "metadata": {
      "needs_background": "light"
     },
     "output_type": "display_data"
    }
   ],
   "source": [
    "corr = data.corr()\n",
    "sns.heatmap(corr);"
   ]
  },
  {
   "cell_type": "markdown",
   "id": "dd65ba8e",
   "metadata": {},
   "source": [
    "## Separting data into features and label"
   ]
  },
  {
   "cell_type": "code",
   "execution_count": 9,
   "id": "810bdf9d",
   "metadata": {},
   "outputs": [],
   "source": [
    "X = data.drop(['class'], axis = 1)\n",
    "Y = data['class']"
   ]
  },
  {
   "cell_type": "code",
   "execution_count": 10,
   "id": "99883d6e",
   "metadata": {},
   "outputs": [
    {
     "data": {
      "text/html": [
       "<div>\n",
       "<style scoped>\n",
       "    .dataframe tbody tr th:only-of-type {\n",
       "        vertical-align: middle;\n",
       "    }\n",
       "\n",
       "    .dataframe tbody tr th {\n",
       "        vertical-align: top;\n",
       "    }\n",
       "\n",
       "    .dataframe thead th {\n",
       "        text-align: right;\n",
       "    }\n",
       "</style>\n",
       "<table border=\"1\" class=\"dataframe\">\n",
       "  <thead>\n",
       "    <tr style=\"text-align: right;\">\n",
       "      <th></th>\n",
       "      <th>0</th>\n",
       "      <th>1</th>\n",
       "      <th>2</th>\n",
       "      <th>3</th>\n",
       "      <th>4</th>\n",
       "      <th>5</th>\n",
       "      <th>6</th>\n",
       "      <th>7</th>\n",
       "      <th>8</th>\n",
       "      <th>9</th>\n",
       "      <th>...</th>\n",
       "      <th>38</th>\n",
       "      <th>39</th>\n",
       "      <th>40</th>\n",
       "      <th>41</th>\n",
       "      <th>42</th>\n",
       "      <th>43</th>\n",
       "      <th>44</th>\n",
       "      <th>45</th>\n",
       "      <th>46</th>\n",
       "      <th>47</th>\n",
       "    </tr>\n",
       "  </thead>\n",
       "  <tbody>\n",
       "    <tr>\n",
       "      <th>0</th>\n",
       "      <td>-0.000018</td>\n",
       "      <td>0.000043</td>\n",
       "      <td>0.000033</td>\n",
       "      <td>0.000008</td>\n",
       "      <td>0.000018</td>\n",
       "      <td>0.000168</td>\n",
       "      <td>-0.037158</td>\n",
       "      <td>-0.037202</td>\n",
       "      <td>-0.037235</td>\n",
       "      <td>-0.010982</td>\n",
       "      <td>...</td>\n",
       "      <td>8.7709</td>\n",
       "      <td>-0.67649</td>\n",
       "      <td>0.96055</td>\n",
       "      <td>8.6993</td>\n",
       "      <td>-1.5021</td>\n",
       "      <td>-1.5021</td>\n",
       "      <td>-1.5017</td>\n",
       "      <td>-1.4932</td>\n",
       "      <td>-1.4933</td>\n",
       "      <td>-1.4934</td>\n",
       "    </tr>\n",
       "    <tr>\n",
       "      <th>1</th>\n",
       "      <td>-0.000001</td>\n",
       "      <td>-0.000017</td>\n",
       "      <td>-0.000091</td>\n",
       "      <td>-0.000002</td>\n",
       "      <td>-0.000005</td>\n",
       "      <td>0.000030</td>\n",
       "      <td>0.003444</td>\n",
       "      <td>0.003460</td>\n",
       "      <td>0.003551</td>\n",
       "      <td>-0.044235</td>\n",
       "      <td>...</td>\n",
       "      <td>16.1250</td>\n",
       "      <td>-0.76999</td>\n",
       "      <td>6.98720</td>\n",
       "      <td>3.7207</td>\n",
       "      <td>-1.5000</td>\n",
       "      <td>-1.5000</td>\n",
       "      <td>-1.5001</td>\n",
       "      <td>-1.4996</td>\n",
       "      <td>-1.4996</td>\n",
       "      <td>-1.4996</td>\n",
       "    </tr>\n",
       "    <tr>\n",
       "      <th>2</th>\n",
       "      <td>-0.000008</td>\n",
       "      <td>0.000022</td>\n",
       "      <td>0.000273</td>\n",
       "      <td>-0.000013</td>\n",
       "      <td>0.000045</td>\n",
       "      <td>0.000235</td>\n",
       "      <td>-0.031176</td>\n",
       "      <td>-0.031198</td>\n",
       "      <td>-0.031471</td>\n",
       "      <td>-0.005473</td>\n",
       "      <td>...</td>\n",
       "      <td>4.3485</td>\n",
       "      <td>-0.50284</td>\n",
       "      <td>2.72700</td>\n",
       "      <td>3.6334</td>\n",
       "      <td>-1.5067</td>\n",
       "      <td>-1.5067</td>\n",
       "      <td>-1.5068</td>\n",
       "      <td>-1.4977</td>\n",
       "      <td>-1.4978</td>\n",
       "      <td>-1.4978</td>\n",
       "    </tr>\n",
       "    <tr>\n",
       "      <th>3</th>\n",
       "      <td>-0.000003</td>\n",
       "      <td>-0.000024</td>\n",
       "      <td>-0.000068</td>\n",
       "      <td>-0.000004</td>\n",
       "      <td>-0.000014</td>\n",
       "      <td>0.000208</td>\n",
       "      <td>0.011901</td>\n",
       "      <td>0.011925</td>\n",
       "      <td>0.011993</td>\n",
       "      <td>-0.010714</td>\n",
       "      <td>...</td>\n",
       "      <td>5.5151</td>\n",
       "      <td>-0.82455</td>\n",
       "      <td>5.36100</td>\n",
       "      <td>11.3180</td>\n",
       "      <td>-1.4998</td>\n",
       "      <td>-1.4998</td>\n",
       "      <td>-1.4998</td>\n",
       "      <td>-1.5001</td>\n",
       "      <td>-1.5002</td>\n",
       "      <td>-1.5000</td>\n",
       "    </tr>\n",
       "    <tr>\n",
       "      <th>4</th>\n",
       "      <td>0.000001</td>\n",
       "      <td>-0.000046</td>\n",
       "      <td>-0.000155</td>\n",
       "      <td>-0.000005</td>\n",
       "      <td>-0.000003</td>\n",
       "      <td>-0.000062</td>\n",
       "      <td>0.002543</td>\n",
       "      <td>0.002589</td>\n",
       "      <td>0.002744</td>\n",
       "      <td>-0.037649</td>\n",
       "      <td>...</td>\n",
       "      <td>3.1774</td>\n",
       "      <td>-0.70297</td>\n",
       "      <td>1.80770</td>\n",
       "      <td>2.5276</td>\n",
       "      <td>-1.5059</td>\n",
       "      <td>-1.5058</td>\n",
       "      <td>-1.5055</td>\n",
       "      <td>-1.4992</td>\n",
       "      <td>-1.4992</td>\n",
       "      <td>-1.4992</td>\n",
       "    </tr>\n",
       "  </tbody>\n",
       "</table>\n",
       "<p>5 rows × 48 columns</p>\n",
       "</div>"
      ],
      "text/plain": [
       "          0         1         2         3         4         5         6  \\\n",
       "0 -0.000018  0.000043  0.000033  0.000008  0.000018  0.000168 -0.037158   \n",
       "1 -0.000001 -0.000017 -0.000091 -0.000002 -0.000005  0.000030  0.003444   \n",
       "2 -0.000008  0.000022  0.000273 -0.000013  0.000045  0.000235 -0.031176   \n",
       "3 -0.000003 -0.000024 -0.000068 -0.000004 -0.000014  0.000208  0.011901   \n",
       "4  0.000001 -0.000046 -0.000155 -0.000005 -0.000003 -0.000062  0.002543   \n",
       "\n",
       "          7         8         9  ...       38       39       40       41  \\\n",
       "0 -0.037202 -0.037235 -0.010982  ...   8.7709 -0.67649  0.96055   8.6993   \n",
       "1  0.003460  0.003551 -0.044235  ...  16.1250 -0.76999  6.98720   3.7207   \n",
       "2 -0.031198 -0.031471 -0.005473  ...   4.3485 -0.50284  2.72700   3.6334   \n",
       "3  0.011925  0.011993 -0.010714  ...   5.5151 -0.82455  5.36100  11.3180   \n",
       "4  0.002589  0.002744 -0.037649  ...   3.1774 -0.70297  1.80770   2.5276   \n",
       "\n",
       "       42      43      44      45      46      47  \n",
       "0 -1.5021 -1.5021 -1.5017 -1.4932 -1.4933 -1.4934  \n",
       "1 -1.5000 -1.5000 -1.5001 -1.4996 -1.4996 -1.4996  \n",
       "2 -1.5067 -1.5067 -1.5068 -1.4977 -1.4978 -1.4978  \n",
       "3 -1.4998 -1.4998 -1.4998 -1.5001 -1.5002 -1.5000  \n",
       "4 -1.5059 -1.5058 -1.5055 -1.4992 -1.4992 -1.4992  \n",
       "\n",
       "[5 rows x 48 columns]"
      ]
     },
     "execution_count": 10,
     "metadata": {},
     "output_type": "execute_result"
    }
   ],
   "source": [
    "X.head()"
   ]
  },
  {
   "cell_type": "code",
   "execution_count": 11,
   "id": "61b68213",
   "metadata": {},
   "outputs": [
    {
     "data": {
      "text/plain": [
       "0    10\n",
       "1     9\n",
       "2    10\n",
       "3     9\n",
       "4     9\n",
       "Name: class, dtype: int64"
      ]
     },
     "execution_count": 11,
     "metadata": {},
     "output_type": "execute_result"
    }
   ],
   "source": [
    "Y.head()"
   ]
  },
  {
   "cell_type": "markdown",
   "id": "071cf4e7",
   "metadata": {},
   "source": [
    "##### dropping last column from data frame and putting in X , Last column dropped into Y"
   ]
  },
  {
   "cell_type": "code",
   "execution_count": 12,
   "id": "acb3d7b9",
   "metadata": {},
   "outputs": [],
   "source": [
    "\n",
    "Xtrain, Xtest, Ytrain, Ytest = train_test_split(X, Y, test_size=0.2, random_state = 5)"
   ]
  },
  {
   "cell_type": "code",
   "execution_count": 13,
   "id": "6cdd2973",
   "metadata": {},
   "outputs": [
    {
     "data": {
      "text/html": [
       "<div>\n",
       "<style scoped>\n",
       "    .dataframe tbody tr th:only-of-type {\n",
       "        vertical-align: middle;\n",
       "    }\n",
       "\n",
       "    .dataframe tbody tr th {\n",
       "        vertical-align: top;\n",
       "    }\n",
       "\n",
       "    .dataframe thead th {\n",
       "        text-align: right;\n",
       "    }\n",
       "</style>\n",
       "<table border=\"1\" class=\"dataframe\">\n",
       "  <thead>\n",
       "    <tr style=\"text-align: right;\">\n",
       "      <th></th>\n",
       "      <th>0</th>\n",
       "      <th>1</th>\n",
       "      <th>2</th>\n",
       "      <th>3</th>\n",
       "      <th>4</th>\n",
       "      <th>5</th>\n",
       "      <th>6</th>\n",
       "      <th>7</th>\n",
       "      <th>8</th>\n",
       "      <th>9</th>\n",
       "      <th>...</th>\n",
       "      <th>38</th>\n",
       "      <th>39</th>\n",
       "      <th>40</th>\n",
       "      <th>41</th>\n",
       "      <th>42</th>\n",
       "      <th>43</th>\n",
       "      <th>44</th>\n",
       "      <th>45</th>\n",
       "      <th>46</th>\n",
       "      <th>47</th>\n",
       "    </tr>\n",
       "  </thead>\n",
       "  <tbody>\n",
       "    <tr>\n",
       "      <th>19161</th>\n",
       "      <td>-0.000008</td>\n",
       "      <td>6.660900e-06</td>\n",
       "      <td>9.127400e-06</td>\n",
       "      <td>0.000002</td>\n",
       "      <td>8.506000e-06</td>\n",
       "      <td>-0.000084</td>\n",
       "      <td>0.045121</td>\n",
       "      <td>0.045114</td>\n",
       "      <td>0.045105</td>\n",
       "      <td>0.106510</td>\n",
       "      <td>...</td>\n",
       "      <td>6.8445</td>\n",
       "      <td>-0.76269</td>\n",
       "      <td>21.3760</td>\n",
       "      <td>3.9331</td>\n",
       "      <td>-1.5015</td>\n",
       "      <td>-1.5015</td>\n",
       "      <td>-1.5015</td>\n",
       "      <td>-1.5001</td>\n",
       "      <td>-1.5001</td>\n",
       "      <td>-1.5001</td>\n",
       "    </tr>\n",
       "    <tr>\n",
       "      <th>8114</th>\n",
       "      <td>0.000001</td>\n",
       "      <td>4.084300e-07</td>\n",
       "      <td>-3.983700e-06</td>\n",
       "      <td>-0.000002</td>\n",
       "      <td>1.243600e-06</td>\n",
       "      <td>0.000005</td>\n",
       "      <td>0.020597</td>\n",
       "      <td>0.020596</td>\n",
       "      <td>0.020600</td>\n",
       "      <td>-0.030995</td>\n",
       "      <td>...</td>\n",
       "      <td>8.7503</td>\n",
       "      <td>-0.63151</td>\n",
       "      <td>3.0004</td>\n",
       "      <td>3.3141</td>\n",
       "      <td>-1.4960</td>\n",
       "      <td>-1.4960</td>\n",
       "      <td>-1.4959</td>\n",
       "      <td>-1.4993</td>\n",
       "      <td>-1.4993</td>\n",
       "      <td>-1.4993</td>\n",
       "    </tr>\n",
       "    <tr>\n",
       "      <th>30917</th>\n",
       "      <td>-0.000008</td>\n",
       "      <td>-2.521000e-06</td>\n",
       "      <td>-5.463000e-06</td>\n",
       "      <td>-0.000015</td>\n",
       "      <td>-7.336800e-07</td>\n",
       "      <td>0.000005</td>\n",
       "      <td>-0.023707</td>\n",
       "      <td>-0.023705</td>\n",
       "      <td>-0.023699</td>\n",
       "      <td>-0.033661</td>\n",
       "      <td>...</td>\n",
       "      <td>7.0206</td>\n",
       "      <td>-0.71150</td>\n",
       "      <td>17.8930</td>\n",
       "      <td>14.1300</td>\n",
       "      <td>-1.4978</td>\n",
       "      <td>-1.4978</td>\n",
       "      <td>-1.4978</td>\n",
       "      <td>-1.5020</td>\n",
       "      <td>-1.5020</td>\n",
       "      <td>-1.5021</td>\n",
       "    </tr>\n",
       "    <tr>\n",
       "      <th>7586</th>\n",
       "      <td>-0.000002</td>\n",
       "      <td>7.689600e-06</td>\n",
       "      <td>-8.442600e-07</td>\n",
       "      <td>-0.000003</td>\n",
       "      <td>-8.639800e-06</td>\n",
       "      <td>0.000012</td>\n",
       "      <td>0.056360</td>\n",
       "      <td>0.056352</td>\n",
       "      <td>0.056353</td>\n",
       "      <td>0.109730</td>\n",
       "      <td>...</td>\n",
       "      <td>19.4330</td>\n",
       "      <td>-0.47492</td>\n",
       "      <td>5.5390</td>\n",
       "      <td>10.2710</td>\n",
       "      <td>-1.4996</td>\n",
       "      <td>-1.4996</td>\n",
       "      <td>-1.4996</td>\n",
       "      <td>-1.4983</td>\n",
       "      <td>-1.4983</td>\n",
       "      <td>-1.4984</td>\n",
       "    </tr>\n",
       "    <tr>\n",
       "      <th>22358</th>\n",
       "      <td>-0.000001</td>\n",
       "      <td>4.869800e-06</td>\n",
       "      <td>8.982400e-06</td>\n",
       "      <td>-0.000002</td>\n",
       "      <td>6.850000e-06</td>\n",
       "      <td>0.000021</td>\n",
       "      <td>0.021431</td>\n",
       "      <td>0.021426</td>\n",
       "      <td>0.021417</td>\n",
       "      <td>-0.035590</td>\n",
       "      <td>...</td>\n",
       "      <td>17.2060</td>\n",
       "      <td>-0.49483</td>\n",
       "      <td>2.8490</td>\n",
       "      <td>10.7210</td>\n",
       "      <td>-1.4996</td>\n",
       "      <td>-1.4996</td>\n",
       "      <td>-1.4996</td>\n",
       "      <td>-1.4989</td>\n",
       "      <td>-1.4989</td>\n",
       "      <td>-1.4989</td>\n",
       "    </tr>\n",
       "  </tbody>\n",
       "</table>\n",
       "<p>5 rows × 48 columns</p>\n",
       "</div>"
      ],
      "text/plain": [
       "              0             1             2         3             4         5  \\\n",
       "19161 -0.000008  6.660900e-06  9.127400e-06  0.000002  8.506000e-06 -0.000084   \n",
       "8114   0.000001  4.084300e-07 -3.983700e-06 -0.000002  1.243600e-06  0.000005   \n",
       "30917 -0.000008 -2.521000e-06 -5.463000e-06 -0.000015 -7.336800e-07  0.000005   \n",
       "7586  -0.000002  7.689600e-06 -8.442600e-07 -0.000003 -8.639800e-06  0.000012   \n",
       "22358 -0.000001  4.869800e-06  8.982400e-06 -0.000002  6.850000e-06  0.000021   \n",
       "\n",
       "              6         7         8         9  ...       38       39       40  \\\n",
       "19161  0.045121  0.045114  0.045105  0.106510  ...   6.8445 -0.76269  21.3760   \n",
       "8114   0.020597  0.020596  0.020600 -0.030995  ...   8.7503 -0.63151   3.0004   \n",
       "30917 -0.023707 -0.023705 -0.023699 -0.033661  ...   7.0206 -0.71150  17.8930   \n",
       "7586   0.056360  0.056352  0.056353  0.109730  ...  19.4330 -0.47492   5.5390   \n",
       "22358  0.021431  0.021426  0.021417 -0.035590  ...  17.2060 -0.49483   2.8490   \n",
       "\n",
       "            41      42      43      44      45      46      47  \n",
       "19161   3.9331 -1.5015 -1.5015 -1.5015 -1.5001 -1.5001 -1.5001  \n",
       "8114    3.3141 -1.4960 -1.4960 -1.4959 -1.4993 -1.4993 -1.4993  \n",
       "30917  14.1300 -1.4978 -1.4978 -1.4978 -1.5020 -1.5020 -1.5021  \n",
       "7586   10.2710 -1.4996 -1.4996 -1.4996 -1.4983 -1.4983 -1.4984  \n",
       "22358  10.7210 -1.4996 -1.4996 -1.4996 -1.4989 -1.4989 -1.4989  \n",
       "\n",
       "[5 rows x 48 columns]"
      ]
     },
     "execution_count": 13,
     "metadata": {},
     "output_type": "execute_result"
    }
   ],
   "source": [
    "Xtrain.head()"
   ]
  },
  {
   "cell_type": "code",
   "execution_count": 14,
   "id": "ae57bb0a",
   "metadata": {},
   "outputs": [],
   "source": [
    "Ytrain = [i -1 for i in Ytrain]"
   ]
  },
  {
   "cell_type": "code",
   "execution_count": 16,
   "id": "31031ea3",
   "metadata": {},
   "outputs": [],
   "source": [
    "from sklearn.ensemble import RandomForestClassifier\n",
    "from sklearn.metrics import accuracy_score"
   ]
  },
  {
   "cell_type": "code",
   "execution_count": 17,
   "id": "b4e26111",
   "metadata": {},
   "outputs": [],
   "source": [
    "rf_model = RandomForestClassifier()"
   ]
  },
  {
   "cell_type": "code",
   "execution_count": 18,
   "id": "9af61623",
   "metadata": {},
   "outputs": [
    {
     "data": {
      "text/plain": [
       "RandomForestClassifier()"
      ]
     },
     "execution_count": 18,
     "metadata": {},
     "output_type": "execute_result"
    }
   ],
   "source": [
    "rf_model.fit(Xtrain,Ytrain)"
   ]
  },
  {
   "cell_type": "code",
   "execution_count": 19,
   "id": "f489d420",
   "metadata": {},
   "outputs": [
    {
     "data": {
      "text/plain": [
       "1.0"
      ]
     },
     "execution_count": 19,
     "metadata": {},
     "output_type": "execute_result"
    }
   ],
   "source": [
    "rf_model.score(Xtrain,Ytrain)"
   ]
  },
  {
   "cell_type": "code",
   "execution_count": 20,
   "id": "1394ecac",
   "metadata": {},
   "outputs": [],
   "source": [
    "ytrainpred = rf_model.predict(Xtrain)"
   ]
  },
  {
   "cell_type": "code",
   "execution_count": 21,
   "id": "0447bdc8",
   "metadata": {},
   "outputs": [
    {
     "data": {
      "text/plain": [
       "1.0"
      ]
     },
     "execution_count": 21,
     "metadata": {},
     "output_type": "execute_result"
    }
   ],
   "source": [
    "accuracy_score(Ytrain,ytrainpred)"
   ]
  },
  {
   "cell_type": "code",
   "execution_count": 22,
   "id": "bd323cdd",
   "metadata": {},
   "outputs": [],
   "source": [
    "ytest1 = rf_model.predict(Xtest)"
   ]
  },
  {
   "cell_type": "code",
   "execution_count": 23,
   "id": "40aa22bb",
   "metadata": {},
   "outputs": [],
   "source": [
    "ytest1 = [i +1 for i in ytest1]"
   ]
  },
  {
   "cell_type": "code",
   "execution_count": 24,
   "id": "cb8fb2e5",
   "metadata": {},
   "outputs": [
    {
     "data": {
      "text/plain": [
       "0.9979705191198461"
      ]
     },
     "execution_count": 24,
     "metadata": {},
     "output_type": "execute_result"
    }
   ],
   "source": [
    "accuracy_score(Ytest,ytest1)"
   ]
  },
  {
   "cell_type": "markdown",
   "id": "f5995d6a",
   "metadata": {},
   "source": [
    "## As already data fits perfectly, No need for hypertuning parameter "
   ]
  },
  {
   "cell_type": "code",
   "execution_count": 25,
   "id": "efbac8ef",
   "metadata": {},
   "outputs": [],
   "source": [
    "Xtest = pd.read_csv('iitm_intern_test_data.csv')"
   ]
  },
  {
   "cell_type": "code",
   "execution_count": 26,
   "id": "526d8cf4",
   "metadata": {},
   "outputs": [],
   "source": [
    "ytestpred = rf_model.predict(Xtest)"
   ]
  },
  {
   "cell_type": "code",
   "execution_count": 27,
   "id": "738837f1",
   "metadata": {},
   "outputs": [],
   "source": [
    "ytestpred = [i+1 for i in ytestpred]"
   ]
  },
  {
   "cell_type": "code",
   "execution_count": 28,
   "id": "81c72267",
   "metadata": {},
   "outputs": [],
   "source": [
    "ytestpred = pd.DataFrame(ytestpred)"
   ]
  },
  {
   "cell_type": "code",
   "execution_count": 29,
   "id": "845657aa",
   "metadata": {},
   "outputs": [
    {
     "data": {
      "text/html": [
       "<div>\n",
       "<style scoped>\n",
       "    .dataframe tbody tr th:only-of-type {\n",
       "        vertical-align: middle;\n",
       "    }\n",
       "\n",
       "    .dataframe tbody tr th {\n",
       "        vertical-align: top;\n",
       "    }\n",
       "\n",
       "    .dataframe thead th {\n",
       "        text-align: right;\n",
       "    }\n",
       "</style>\n",
       "<table border=\"1\" class=\"dataframe\">\n",
       "  <thead>\n",
       "    <tr style=\"text-align: right;\">\n",
       "      <th></th>\n",
       "      <th>0</th>\n",
       "    </tr>\n",
       "  </thead>\n",
       "  <tbody>\n",
       "    <tr>\n",
       "      <th>0</th>\n",
       "      <td>1</td>\n",
       "    </tr>\n",
       "    <tr>\n",
       "      <th>1</th>\n",
       "      <td>5</td>\n",
       "    </tr>\n",
       "    <tr>\n",
       "      <th>2</th>\n",
       "      <td>5</td>\n",
       "    </tr>\n",
       "    <tr>\n",
       "      <th>3</th>\n",
       "      <td>11</td>\n",
       "    </tr>\n",
       "    <tr>\n",
       "      <th>4</th>\n",
       "      <td>7</td>\n",
       "    </tr>\n",
       "  </tbody>\n",
       "</table>\n",
       "</div>"
      ],
      "text/plain": [
       "    0\n",
       "0   1\n",
       "1   5\n",
       "2   5\n",
       "3  11\n",
       "4   7"
      ]
     },
     "execution_count": 29,
     "metadata": {},
     "output_type": "execute_result"
    }
   ],
   "source": [
    "ytestpred.head()"
   ]
  },
  {
   "cell_type": "code",
   "execution_count": 30,
   "id": "31db8624",
   "metadata": {},
   "outputs": [],
   "source": [
    "ytestpred.to_csv('CH20B013_AnkitKumar_predictions.csv',index = False)"
   ]
  },
  {
   "cell_type": "code",
   "execution_count": null,
   "id": "e58cee0e",
   "metadata": {},
   "outputs": [],
   "source": []
  }
 ],
 "metadata": {
  "kernelspec": {
   "display_name": "Python 3 (ipykernel)",
   "language": "python",
   "name": "python3"
  },
  "language_info": {
   "codemirror_mode": {
    "name": "ipython",
    "version": 3
   },
   "file_extension": ".py",
   "mimetype": "text/x-python",
   "name": "python",
   "nbconvert_exporter": "python",
   "pygments_lexer": "ipython3",
   "version": "3.9.7"
  }
 },
 "nbformat": 4,
 "nbformat_minor": 5
}
